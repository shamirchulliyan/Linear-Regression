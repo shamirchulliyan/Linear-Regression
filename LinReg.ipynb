{
 "cells": [
  {
   "cell_type": "code",
   "execution_count": 1,
   "id": "4274b6c0",
   "metadata": {},
   "outputs": [],
   "source": [
    "import pandas as pd\n",
    "from sklearn import linear_model"
   ]
  },
  {
   "cell_type": "code",
   "execution_count": 2,
   "id": "63b87ee4",
   "metadata": {},
   "outputs": [],
   "source": [
    "df = pd.read_csv('Datasets/carPricescc.csv')"
   ]
  },
  {
   "cell_type": "code",
   "execution_count": 3,
   "id": "b08a35e6",
   "metadata": {},
   "outputs": [],
   "source": [
    "linReg = linear_model.LinearRegression()"
   ]
  },
  {
   "cell_type": "code",
   "execution_count": 4,
   "id": "3cb482cc",
   "metadata": {},
   "outputs": [],
   "source": [
    "x = df[['mileage(km)', 'cc']]\n",
    "y = df['price']"
   ]
  },
  {
   "cell_type": "code",
   "execution_count": 5,
   "id": "649444b8",
   "metadata": {},
   "outputs": [
    {
     "data": {
      "text/plain": [
       "LinearRegression()"
      ]
     },
     "execution_count": 5,
     "metadata": {},
     "output_type": "execute_result"
    }
   ],
   "source": [
    "linReg.fit(x, y)"
   ]
  },
  {
   "cell_type": "code",
   "execution_count": 8,
   "id": "2ae93307",
   "metadata": {},
   "outputs": [],
   "source": [
    "def myPred(mileage, cc):\n",
    "    y = (linReg.coef_[0] * mileage) + (linReg.coef_[1] * cc) + linReg.intercept_\n",
    "    return y"
   ]
  },
  {
   "cell_type": "code",
   "execution_count": 11,
   "id": "d4842b35",
   "metadata": {},
   "outputs": [
    {
     "ename": "SyntaxError",
     "evalue": "unexpected EOF while parsing (Temp/ipykernel_14280/3296219751.py, line 1)",
     "output_type": "error",
     "traceback": [
      "\u001b[1;36m  File \u001b[1;32m\"C:\\Users\\SHAMIR~1\\AppData\\Local\\Temp/ipykernel_14280/3296219751.py\"\u001b[1;36m, line \u001b[1;32m1\u001b[0m\n\u001b[1;33m    myPred(int(input(\"Enter the milage of car : \")), int(input(\"\\nEnter the cc of car : \"))\u001b[0m\n\u001b[1;37m                                                                                           ^\u001b[0m\n\u001b[1;31mSyntaxError\u001b[0m\u001b[1;31m:\u001b[0m unexpected EOF while parsing\n"
     ]
    }
   ],
   "source": [
    "myPred(int(input(\"Enter the milage of car : \")), int(input(\"\\nEnter the cc of car : \"))\n"
   ]
  },
  {
   "cell_type": "code",
   "execution_count": null,
   "id": "d28aa0c6",
   "metadata": {},
   "outputs": [],
   "source": []
  }
 ],
 "metadata": {
  "kernelspec": {
   "display_name": "Python 3 (ipykernel)",
   "language": "python",
   "name": "python3"
  },
  "language_info": {
   "codemirror_mode": {
    "name": "ipython",
    "version": 3
   },
   "file_extension": ".py",
   "mimetype": "text/x-python",
   "name": "python",
   "nbconvert_exporter": "python",
   "pygments_lexer": "ipython3",
   "version": "3.9.7"
  }
 },
 "nbformat": 4,
 "nbformat_minor": 5
}
